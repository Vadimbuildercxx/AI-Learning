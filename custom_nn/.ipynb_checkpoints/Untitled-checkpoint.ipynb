{
 "cells": [
  {
   "cell_type": "code",
   "execution_count": 1,
   "id": "39cab8e1-ad9d-4962-954b-5ccb264f6b51",
   "metadata": {},
   "outputs": [],
   "source": [
    "import numpy\n",
    "import scipy.special"
   ]
  },
  {
   "cell_type": "code",
   "execution_count": 2,
   "id": "df2e69b3-16d1-4f2d-b05e-16a1000d8a5d",
   "metadata": {},
   "outputs": [
    {
     "data": {
      "text/plain": [
       "array([[ 0.31381213,  0.20307015,  0.42421502],\n",
       "       [-0.48641281,  0.05599276,  0.37655143],\n",
       "       [ 0.30382042, -0.07363976,  0.09357774]])"
      ]
     },
     "execution_count": 2,
     "metadata": {},
     "output_type": "execute_result"
    }
   ],
   "source": [
    "numpy.random.rand(3, 3) - 0.5"
   ]
  },
  {
   "cell_type": "code",
   "execution_count": 4,
   "id": "ae4b9c21-3bea-4933-a10f-76d6d297f866",
   "metadata": {},
   "outputs": [],
   "source": [
    "class NN:\n",
    "    def __init__(self, input_nodes, hidden_nodes, \n",
    "                output_nodes, lr):\n",
    "        self.in_nodes = input_nodes\n",
    "        self.hid_nodes = hidden_nodes\n",
    "        self.out_nodes = output_nodes\n",
    "        self.lr = lr\n",
    "        self.wih = numpy.random.normal(0.0, pow(self.hid_nodes, -0.5), \n",
    "                                        (self.hid_nodes, self.in_nodes))\n",
    "        self.who = numpy.random.normal(0.0, pow(self.out_nodes, -0.5),\n",
    "                                        (self.out_nodes, self.hid_nodes))\n",
    "        self.activation_function = lambda x: scipy.special.expit(x)\n",
    "        \n",
    "        \n",
    "        \n",
    "    def train(self, input_array, traget_array):\n",
    "        input_array = numpy.array(input_array, ndmin=2).T\n",
    "        target_values = numpy.array(traget_array, ndmin=2).T\n",
    "        hidden_inputs = numpy.dot(self.wih, input_array)  \n",
    "        hidden_outputs = self.activation_function(hidden_inputs)\n",
    "                    \n",
    "        final_inputs = numpy.dot(self.who, hidden_outputs)  \n",
    "        final_outputs = self.activation_function(final_inputs)\n",
    "        \n",
    "        \n",
    "        output_errors = target_values - final_outputs\n",
    "\n",
    "        hidden_errors = numpy.dot(self.who.T, output_errors)\n",
    "        \n",
    "        self.who += self.lr * numpy.dot((output_errors * final_outputs *\n",
    "                    (1.0 - final_outputs)), numpy.transpose(hidden_outputs))\n",
    "        self.wih += self.lr * numpy.dot((hidden_errors * hidden_outputs *\n",
    "                    (1.0 - hidden_outputs)), numpy.transpose(input_array))\n",
    "        \n",
    "        \n",
    "    def query(self, input_array):\n",
    "        input_array = numpy.array(input_array, ndmin=2).T\n",
    "        hidden_inputs = numpy.dot(self.wih, input_array)  \n",
    "        hidden_outputs = self.activation_function(hidden_inputs)\n",
    "                    \n",
    "        final_inputs = numpy.dot(self.who, hidden_outputs)  \n",
    "        final_outputs = self.activation_function(final_inputs)\n",
    "        return final_outputs\n",
    "    \n",
    "\n",
    "                    "
   ]
  },
  {
   "cell_type": "code",
   "execution_count": 5,
   "id": "8be1e7e5-ee57-4be8-8ce7-b91aa76978eb",
   "metadata": {},
   "outputs": [],
   "source": [
    "nn = NN(784, 100, 10, 0.3)"
   ]
  },
  {
   "cell_type": "code",
   "execution_count": 6,
   "id": "27305aec-0d16-40d7-bbfc-feacb3d658ea",
   "metadata": {},
   "outputs": [],
   "source": [
    "with open(\"mnist_train_100.csv\", \"r\") as f:\n",
    "    data_file = f.readlines()"
   ]
  },
  {
   "cell_type": "code",
   "execution_count": 7,
   "id": "3743b6a5-d4a5-4b93-9eb1-5b82d0f6ab33",
   "metadata": {},
   "outputs": [],
   "source": [
    "import matplotlib.pyplot"
   ]
  },
  {
   "cell_type": "code",
   "execution_count": 8,
   "id": "1b3df37a-1173-4910-8d96-a604b6233a8e",
   "metadata": {},
   "outputs": [
    {
     "data": {
      "text/plain": [
       "<matplotlib.image.AxesImage at 0x22d75a38fd0>"
      ]
     },
     "execution_count": 8,
     "metadata": {},
     "output_type": "execute_result"
    },
    {
     "data": {
      "image/png": "[encoded data removed]",
      "text/plain": [
       "<Figure size 640x480 with 1 Axes>"
      ]
     },
     "metadata": {},
     "output_type": "display_data"
    }
   ],
   "source": [
    "all_values = data_file[1].split(\",\")\n",
    "image_array = numpy.asfarray(all_values[1:]).reshape((28, 28))\n",
    "matplotlib.pyplot.imshow(image_array, cmap=\"Greys\", interpolation=None)"
   ]
  },
  {
   "cell_type": "code",
   "execution_count": 9,
   "id": "daf51bb1-564a-4207-930a-f9109a681775",
   "metadata": {},
   "outputs": [],
   "source": [
    "scaled_input = (numpy.asfarray(all_values[1:]) / 255.0 * 0.99) + 0.01"
   ]
  },
  {
   "cell_type": "code",
   "execution_count": 10,
   "id": "2097cc0e-3004-4dd8-974b-bab9b69857e8",
   "metadata": {},
   "outputs": [
    {
     "ename": "ValueError",
     "evalue": "operands could not be broadcast together with shapes (784,1) (10,1) ",
     "output_type": "error",
     "traceback": [
      "\u001b[1;31m---------------------------------------------------------------------------\u001b[0m",
      "\u001b[1;31mValueError\u001b[0m                                Traceback (most recent call last)",
      "\u001b[1;32m~\\AppData\\Local\\Temp\\ipykernel_9348\\884034195.py\u001b[0m in \u001b[0;36m<module>\u001b[1;34m\u001b[0m\n\u001b[0;32m      8\u001b[0m     \u001b[1;31m# all_values[0] - целевое маркерное значение для данной записи\u001b[0m\u001b[1;33m\u001b[0m\u001b[1;33m\u001b[0m\u001b[0m\n\u001b[0;32m      9\u001b[0m     \u001b[0mtargets\u001b[0m\u001b[1;33m[\u001b[0m\u001b[0mint\u001b[0m\u001b[1;33m(\u001b[0m\u001b[0mall_values\u001b[0m\u001b[1;33m[\u001b[0m\u001b[1;36m0\u001b[0m\u001b[1;33m]\u001b[0m\u001b[1;33m)\u001b[0m\u001b[1;33m]\u001b[0m \u001b[1;33m=\u001b[0m\u001b[1;36m0.99\u001b[0m\u001b[1;33m\u001b[0m\u001b[1;33m\u001b[0m\u001b[0m\n\u001b[1;32m---> 10\u001b[1;33m     \u001b[0mnn\u001b[0m\u001b[1;33m.\u001b[0m\u001b[0mtrain\u001b[0m\u001b[1;33m(\u001b[0m\u001b[0minputs\u001b[0m\u001b[1;33m,\u001b[0m \u001b[0mtargets\u001b[0m\u001b[1;33m)\u001b[0m\u001b[1;33m\u001b[0m\u001b[1;33m\u001b[0m\u001b[0m\n\u001b[0m",
      "\u001b[1;32m~\\AppData\\Local\\Temp\\ipykernel_9348\\3966618936.py\u001b[0m in \u001b[0;36mtrain\u001b[1;34m(self, input_array, traget_array)\u001b[0m\n\u001b[0;32m     24\u001b[0m \u001b[1;33m\u001b[0m\u001b[0m\n\u001b[0;32m     25\u001b[0m \u001b[1;33m\u001b[0m\u001b[0m\n\u001b[1;32m---> 26\u001b[1;33m         \u001b[0moutput_errors\u001b[0m \u001b[1;33m=\u001b[0m \u001b[0mtarget_values\u001b[0m \u001b[1;33m-\u001b[0m \u001b[0mfinal_outputs\u001b[0m\u001b[1;33m\u001b[0m\u001b[1;33m\u001b[0m\u001b[0m\n\u001b[0m\u001b[0;32m     27\u001b[0m \u001b[1;33m\u001b[0m\u001b[0m\n\u001b[0;32m     28\u001b[0m         \u001b[0mhidden_errors\u001b[0m \u001b[1;33m=\u001b[0m \u001b[0mnumpy\u001b[0m\u001b[1;33m.\u001b[0m\u001b[0mdot\u001b[0m\u001b[1;33m(\u001b[0m\u001b[0mself\u001b[0m\u001b[1;33m.\u001b[0m\u001b[0mwho\u001b[0m\u001b[1;33m.\u001b[0m\u001b[0mT\u001b[0m\u001b[1;33m,\u001b[0m \u001b[0moutput_errors\u001b[0m\u001b[1;33m)\u001b[0m\u001b[1;33m\u001b[0m\u001b[1;33m\u001b[0m\u001b[0m\n",
      "\u001b[1;31mValueError\u001b[0m: operands could not be broadcast together with shapes (784,1) (10,1) "
     ]
    }
   ],
   "source": [
    "for record in data_file:\n",
    "    # получить список значений, используя символы запятой (1,1)\n",
    "    # в качестве разделителей \n",
    "    all_values = record.split(',')\n",
    "    # масштабировать и сместить входные значения\n",
    "    inputs = (numpy.asfarray(all_values[1:]) / 255.0 * 0.99) + 0.01\n",
    "    targets = numpy.zeros(784) + 0.01\n",
    "    # all_values[0] - целевое маркерное значение для данной записи \n",
    "    targets[int(all_values[0])] =0.99\n",
    "    nn.train(inputs, targets)"
   ]
  },
  {
   "cell_type": "code",
   "execution_count": 62,
   "id": "e093f6dc-5cb9-4286-b656-6f8a59ea49d6",
   "metadata": {},
   "outputs": [],
   "source": [
    "import numpy\n",
    "# библиотека scipy.special содержит сигмоиду expit()\n",
    "import scipy.special\n",
    "# библиотека для графического отображения массивов \n",
    "import matplotlib.pyplot\n",
    "# гарантировать размещение графики в данном блокноте,\n",
    "# а не в отдельном окне %matplotlib inline\n",
    "# определение класса нейронной сети \n",
    "class neuralNetwork:\n",
    "    # инициализировать нейронную сеть\n",
    "    def __init__(self, inputnodes, hiddennodes, outputnodes,learningrate):\n",
    "        # задать количество узлов во входном, скрытом и выходном слое \n",
    "        self.inodes = inputnodes\n",
    "        self.hnodes = hiddennodes \n",
    "        self.onodes = outputnodes\n",
    "        # Матрицы весовых коэффициентов связей, wih и who.\n",
    "        # Весовые коэффициенты связей между узлом i и узлом j\n",
    "        # следующего слоя обозначены как w_i_j:\n",
    "        # wll w21\n",
    "        # wl2 w22 и т.д.\n",
    "        self.wih = numpy.random.normal(0.0, pow(self.hnodes, -0.5), (self.hnodes, self.inodes))\n",
    "        self.who = numpy.random.normal(0.0, pow(self.onodes, -0.5), (self.onodes, self.hnodes))\n",
    "        # коэффициент обучения \n",
    "        self.lr = learningrate\n",
    "\n",
    "        # использование сигмоиды в качестве функции активации\n",
    "        self.activation_function = lambda x: scipy.special.expit(x)\n",
    "\n",
    "# тренировка нейронной сети\n",
    "    def train (self, inputs_list, targets_list) :\n",
    "        # преобразование списка входных значений\n",
    "        # в двухмерный массив\n",
    "        inputs = numpy.array(inputs_list, ndmin=2).T \n",
    "        targets = numpy.array(targets_list, ndmin=2).T\n",
    "        # рассчитать входящие сигналы для скрытого слоя \n",
    "        hidden_inputs = numpy .dot (self .wih, inputs)\n",
    "        # рассчитать исходящие сигналы для скрытого слоя \n",
    "        hidden_outputs = self.activation_function(hidden_inputs)\n",
    "        # рассчитать входящие сигналы для выходного слоя \n",
    "        final_inputs = numpy.dot(self.who, hidden_outputs)\n",
    "        # рассчитать исходящие сигналы для выходного слоя \n",
    "        final_outputs = self.activation_function(final_inputs)\n",
    "        # ошибки выходного слоя =\n",
    "        # (целевое значение - фактическое значение) \n",
    "        output_errors = targets - final_outputs\n",
    "        # ошибки скрытого слоя - это ошибки output_errors,\n",
    "        # распределенные пропорционально весовым коэффициентам связей\n",
    "        # и рекомбинированные на скрытых узлах \n",
    "        hidden_errors = numpy.dot(self.who.T, output_errors)\n",
    "        # обновить весовые коэффициенты для связей между\n",
    "        # скрытым и выходным слоями\n",
    "        self.who += self.lr * numpy.dot((output_errors * final_outputs * (1.0 - final_outputs)),\n",
    "        numpy.transpose(hidden_outputs))\n",
    "        # обновить весовые коэффициенты для связей между\n",
    "        # входным и скрытым слоями\n",
    "        self.wih += self.lr * numpy.dot((hidden_errors * hidden_outputs * (1.0 - hidden_outputs)), numpy.transpose(inputs))\n",
    "        pass\n",
    "    # опрос нейронной сети\n",
    "    def query(self, inputs_list):\n",
    "        # преобразовать список входных значений\n",
    "        # в двухмерный массив\n",
    "        inputs = numpy.array(inputs_list, ndmin=2).T\n",
    "        # рассчитать входящие сигналы для скрытого слоя \n",
    "        hidden_inputs = numpy.dot(self.wih, inputs)\n",
    "\n",
    "        # рассчитать исходящие сигналы для скрытого слоя \n",
    "        hidden_outputs = self.activation_function(hidden_inputs)\n",
    "        # рассчитать входящие сигналы для выходного слоя \n",
    "        final_inputs = numpy.dot (self .who, hidden_outputs)\n",
    "        # рассчитать исходящие сигналы для выходного слоя\n",
    "        final_outputs = self.activation_function(final_inputs)\n",
    "        return final_outputs\n",
    "# количество входных, скрытых и выходных узлов \n",
    "input_nodes = 784\n",
    "hidden_nodes = 300\n",
    "output_nodes =10\n",
    "# коэффициент обучения равен 0,3 \n",
    "learning_rate =0.1\n",
    "# создать экземпляр нейронной сети\n",
    "n = neuralNetwork(input_nodes,hidden_nodes,output_nodes,learning_rate)\n",
    "# загрузить в список тестовый набор данных CSV-файла набора MNIST \n",
    "with open(\"mnist_train_100.csv\", \"r\") as training_data_file:\n",
    "    training_data_list = training_data_file.readlines()\n",
    "# тренировка нейронной сети\n",
    "# перебрать все записи в тренировочном наборе данных \n",
    "for i in range(7):\n",
    "    for record in training_data_list:\n",
    "        # получить список значений, используя символы запятой (1,1)\n",
    "        # в качестве разделителей \n",
    "        all_values = record.split(',')\n",
    "        # масштабировать и сместить входные значения\n",
    "        inputs = (numpy.asfarray(all_values[1:]) / 255.0 * 0.99) + 0.01\n",
    "        # создать целевые выходные значения (все равны 0,01, за исключением\n",
    "        # желаемого маркерного значения, равного 0,99) \n",
    "        targets = numpy.zeros(output_nodes) + 0.01\n",
    "        # all_values[0] - целевое маркерное значение для данной записи \n",
    "        targets[int(all_values[0])] =0.99\n",
    "        n.train(inputs, targets)\n"
   ]
  },
  {
   "cell_type": "code",
   "execution_count": 63,
   "id": "c74e3b01-e1df-420a-9960-08f607faa447",
   "metadata": {},
   "outputs": [
    {
     "data": {
      "text/plain": [
       "<matplotlib.image.AxesImage at 0x22d780f8610>"
      ]
     },
     "execution_count": 63,
     "metadata": {},
     "output_type": "execute_result"
    },
    {
     "data": {
      "image/png": "[encoded data removed]",
      "text/plain": [
       "<Figure size 640x480 with 1 Axes>"
      ]
     },
     "metadata": {},
     "output_type": "display_data"
    }
   ],
   "source": [
    "with open(\"mnist_test_10.csv\", 'r') as test_data_file:\n",
    "    test_data_list = test_data_file.readlines() \n",
    "    \n",
    "all_values = test_data_list[1].split(\",\")\n",
    "image_array = numpy.asfarray(all_values[1:]).reshape((28, 28))\n",
    "matplotlib.pyplot.imshow(image_array, cmap=\"Greys\", interpolation=None)"
   ]
  },
  {
   "cell_type": "code",
   "execution_count": 64,
   "id": "894ada26-44f3-45bb-9584-c1a9dd6c0fce",
   "metadata": {},
   "outputs": [
    {
     "data": {
      "text/plain": [
       "array([[1.02853595e-01],\n",
       "       [6.41465077e-03],\n",
       "       [3.54347780e-01],\n",
       "       [1.12129512e-02],\n",
       "       [5.37296074e-05],\n",
       "       [1.53054014e-01],\n",
       "       [5.02030582e-01],\n",
       "       [5.62836484e-04],\n",
       "       [4.05127036e-03],\n",
       "       [4.64769142e-03]])"
      ]
     },
     "execution_count": 64,
     "metadata": {},
     "output_type": "execute_result"
    }
   ],
   "source": [
    "n.query((numpy.asfarray(all_values[1:]) / 255.0 * 0.99) + 0.01)"
   ]
  },
  {
   "cell_type": "code",
   "execution_count": 65,
   "id": "bb061c63-8ba8-4dfb-a75b-d05bd1c7636c",
   "metadata": {},
   "outputs": [
    {
     "name": "stdout",
     "output_type": "stream",
     "text": [
      "7 истинный маркер\n",
      "7 ответ сети\n",
      "2 истинный маркер\n",
      "6 ответ сети\n",
      "1 истинный маркер\n",
      "1 ответ сети\n",
      "0 истинный маркер\n",
      "0 ответ сети\n",
      "4 истинный маркер\n",
      "4 ответ сети\n",
      "1 истинный маркер\n",
      "1 ответ сети\n",
      "4 истинный маркер\n",
      "9 ответ сети\n",
      "9 истинный маркер\n",
      "4 ответ сети\n",
      "5 истинный маркер\n",
      "1 ответ сети\n",
      "9 истинный маркер\n",
      "9 ответ сети\n",
      "эффективность =  0.6\n"
     ]
    }
   ],
   "source": [
    "scorecard = []\n",
    "# перебрать все записи в тестовом наборе данных \n",
    "for record in test_data_list:\n",
    "    # получить список значений из записи, используя символы\n",
    "    # запятой (*,1) в качестве разделителей \n",
    "    all_values = record.split(',')\n",
    "    # правильный ответ - первое значение \n",
    "    correct_label = int(all_values[0]) \n",
    "    print(correct_label, \"истинный маркер\")\n",
    "    # масштабировать и сместить входные значения\n",
    "    inputs = (numpy.asfarray(all_values[1:]) / 255.0 * 0.99) + 0.01\n",
    "    # опрос сети\n",
    "    outputs = n.query(inputs)\n",
    "    # индекс наибольшего значения является маркерным значением \n",
    "    label = numpy.argmax(outputs)\n",
    "    print(label, \"ответ сети\")\n",
    "    # присоединить оценку ответа сети к концу списка \n",
    "    if (label == correct_label) :\n",
    "        # в случае правильного ответа сети присоединить\n",
    "        # к списку значение 1 \n",
    "        scorecard.append(1)\n",
    "    else:\n",
    "        # в случае неправильного ответа сети присоединить\n",
    "        # к списку значение 0 \n",
    "        scorecard.append(0) \n",
    "scorecard_array = numpy.asarray(scorecard)\n",
    "print (\"эффективность = \", scorecard_array.sum() / scorecard_array.size)"
   ]
  }
 ],
 "metadata": {
  "kernelspec": {
   "display_name": "Python 3 (ipykernel)",
   "language": "python",
   "name": "python3"
  },
  "language_info": {
   "codemirror_mode": {
    "name": "ipython",
    "version": 3
   },
   "file_extension": ".py",
   "mimetype": "text/x-python",
   "name": "python",
   "nbconvert_exporter": "python",
   "pygments_lexer": "ipython3",
   "version": "3.9.13"
  }
 },
 "nbformat": 4,
 "nbformat_minor": 5
}
